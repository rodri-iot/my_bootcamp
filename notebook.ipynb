{
 "cells": [
  {
   "cell_type": "code",
   "execution_count": 3,
   "metadata": {},
   "outputs": [
    {
     "name": "stdout",
     "output_type": "stream",
     "text": [
      "Imprimir el dato a (int):  1\n",
      "Imprimir el dato b (float):  3.1415\n",
      "Imprimir el dato p (string):  Pedro\n",
      "Imprimir el dato q (boolean):  True\n"
     ]
    }
   ],
   "source": [
    "a = 1 #este es un entero (int)\n",
    "b = 3.1415 #este es un flotante (float)\n",
    "p = \"Pedro\" #este es una cadena (string)\n",
    "q = True #este es un tipo lógico (boolean)\n",
    "\n",
    "#Estos tipos de datos son inmutables\n",
    "\n",
    "print(\"Imprimir el dato a (int): \",a)\n",
    "print(\"Imprimir el dato b (float): \",b)\n",
    "print(\"Imprimir el dato p (string): \",p)\n",
    "print(\"Imprimir el dato q (boolean): \",q)"
   ]
  },
  {
   "cell_type": "code",
   "execution_count": 4,
   "metadata": {},
   "outputs": [
    {
     "name": "stdout",
     "output_type": "stream",
     "text": [
      "Imprimir mi_lista (list):  ['a', 'b', 'c', 'd']\n",
      "Imprimir mi_diccionario (dic):  {'name': 'Pedro', 'apellido': 'Trueno'}\n",
      "Imprimir mi_tupla (tupla):  ('rojo', 'azul', 'verde')\n"
     ]
    }
   ],
   "source": [
    "mi_lista = ['a', 'b', 'c', 'd'] #Esta es una lista\n",
    "mi_diccionario = {'name': 'Pedro', 'apellido': 'Trueno'} #Este es un diccionario\n",
    "mi_tupla = ('rojo','azul','verde') #Este es una tupla\n",
    "\n",
    "\n",
    "#Estos tipos de datos son iterables\n",
    "\n",
    "print(\"Imprimir mi_lista (list): \",mi_lista)\n",
    "print(\"Imprimir mi_diccionario (dic): \",mi_diccionario)\n",
    "print(\"Imprimir mi_tupla (tupla): \",mi_tupla)"
   ]
  }
 ],
 "metadata": {
  "kernelspec": {
   "display_name": ".venv",
   "language": "python",
   "name": "python3"
  },
  "language_info": {
   "codemirror_mode": {
    "name": "ipython",
    "version": 3
   },
   "file_extension": ".py",
   "mimetype": "text/x-python",
   "name": "python",
   "nbconvert_exporter": "python",
   "pygments_lexer": "ipython3",
   "version": "3.12.1"
  }
 },
 "nbformat": 4,
 "nbformat_minor": 2
}
