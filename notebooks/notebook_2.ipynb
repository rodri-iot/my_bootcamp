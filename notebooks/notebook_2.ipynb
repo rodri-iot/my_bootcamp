{
 "cells": [
  {
   "cell_type": "code",
   "execution_count": null,
   "metadata": {},
   "outputs": [],
   "source": [
    "#Pasos para crear entorno virtual\n",
    "python3 --version\n",
    "\n",
    "python3 -m venv .venv #crea el entorno virtual\n",
    "source .venv/bin/activate #activa el enetorno virtual\n",
    "pip install ipykernel nbformat pandas matplotlib #instalar kerenel nbformat pandas y matplotlib\n",
    "pip install numpy #instalar numpy\n",
    "pip install nltk Pillow wave # nltk maneja texto, Pilow maneja imagenes, wave maneja audio\n",
    "pip install scikit-learn #instalar machine learning\n",
    "\n",
    "#Navegar por el directorio\n",
    "mkdir notebooks #Se crea una carpeta con nombre \"notebooks\"\n",
    "ls #para visualizar el directorio/carpeta\n",
    "touch notebooks/lesson_01.ipynb #Crea un archivo dentro del directorio\n",
    "\n",
    "#Comandos git\n",
    "git status #vitacora de lo que esta sucediendo ahora\n",
    "\n",
    "git config pull.rebase false #rebasar el pull\n",
    "git pull #jalar repo\n",
    "\n",
    "git mv lesson_3.ipynb notebooks/lesson_3.ipynb #mover archivos entre direcotrios"
   ]
  }
 ],
 "metadata": {
  "kernelspec": {
   "display_name": ".venv",
   "language": "python",
   "name": "python3"
  },
  "language_info": {
   "name": "python",
   "version": "3.12.3"
  }
 },
 "nbformat": 4,
 "nbformat_minor": 2
}
