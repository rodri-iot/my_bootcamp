{
  "cells": [
    {
      "cell_type": "markdown",
      "metadata": {
        "id": "_4R9hzKa21ub"
      },
      "source": [
        "# Lesson 3: Data everywhere\n",
        "\n",
        "In the past lesson we have created a dataset out from students knowledge of Python, Pandas and Numpy. But that's not the only way to represente datasets.\n",
        "\n",
        "Let's dive into other representations of data, like text, images and audio."
      ]
    },
    {
      "cell_type": "code",
      "execution_count": 1,
      "metadata": {
        "id": "yMPln12z2tKz"
      },
      "outputs": [],
      "source": [
        "# Step 0. Import libraries and custom functions\n",
        "import pandas as pd\n",
        "import numpy as np\n",
        "import nltk\n",
        "from sklearn.feature_extraction.text import CountVectorizer\n",
        "from PIL import Image\n",
        "import matplotlib.pyplot as plt\n",
        "import wave"
      ]
    },
    {
      "cell_type": "code",
      "execution_count": null,
      "metadata": {
        "colab": {
          "base_uri": "https://localhost:8080/",
          "height": 173
        },
        "id": "sgqZp4Wc3zuG",
        "outputId": "d664b6d5-0def-4a88-f8af-ab54e13d53c7"
      },
      "outputs": [],
      "source": [
        "# 1. Text representation\n",
        "# 1.1 Let's create a dataset\n",
        "df_samp = pd.DataFrame({'mag':[4,3,2,1], 'val':[3.14,2.71,1,0],\n",
        "                        'cat':['real','real','nat','nat'],\n",
        "                        'text':['this is pi','this is e_number','one','zero']})\n",
        "df_samp"
      ]
    },
    {
      "cell_type": "code",
      "execution_count": 3,
      "metadata": {
        "id": "oOMWL5u3-nsc"
      },
      "outputs": [],
      "source": [
        "# Now, computer can only read numbers so how can we convert this dataset to a\n",
        "# numeric representation?\n",
        "# 1.2 Categoricals: You can represent them with a yes, it is or  no, it's not\n",
        "\n"
      ]
    },
    {
      "cell_type": "code",
      "execution_count": 4,
      "metadata": {
        "id": "uwpqXTPv_jTx"
      },
      "outputs": [],
      "source": [
        "# 1.3 Text: You can create a representation of text, encoding position\n",
        "# this  is   pi    e   one  zero\n",
        "#   1    1    1    0    0    0\n",
        "#   1    1    0    1    0    0\n",
        "#   0    0    0    0    1    0\n",
        "#   0    0    0    0    0    1\n",
        "# But this could be hard for long text, so let's use the sklearn library\n",
        "# To vectorize our text\n"
      ]
    },
    {
      "cell_type": "code",
      "execution_count": 5,
      "metadata": {
        "id": "RGY8YUEPEVyJ"
      },
      "outputs": [],
      "source": [
        "# Then we convert the vectorized text into a matrix\n"
      ]
    },
    {
      "cell_type": "code",
      "execution_count": 6,
      "metadata": {
        "id": "rYeO289AEuPP"
      },
      "outputs": [],
      "source": [
        "# And we get the word associated with each column\n"
      ]
    },
    {
      "cell_type": "code",
      "execution_count": 7,
      "metadata": {
        "id": "m5sLDmv1dOUo"
      },
      "outputs": [],
      "source": [
        "# Then we create our dataframe\n"
      ]
    },
    {
      "cell_type": "code",
      "execution_count": 8,
      "metadata": {
        "id": "qTgRN5TbdrRU"
      },
      "outputs": [],
      "source": [
        "# And we append it to our original dataframe\n"
      ]
    },
    {
      "cell_type": "code",
      "execution_count": 9,
      "metadata": {
        "id": "Y0Q4dxR8fW1I"
      },
      "outputs": [],
      "source": [
        "# 1.4 Images\n",
        "# Now, images are also a representation of what we perceive with our eyes\n",
        "# So if you have a capturing device like a camera, you'll get that perception\n",
        "# into an electronic image, which is a 2D representation\n",
        "# Let's open an image and get a view\n"
      ]
    },
    {
      "cell_type": "code",
      "execution_count": 10,
      "metadata": {
        "id": "ChYS6TFfvIKm"
      },
      "outputs": [],
      "source": [
        "# And we'll see that an image is just a matrix\n"
      ]
    },
    {
      "cell_type": "code",
      "execution_count": 12,
      "metadata": {
        "id": "qzxRg748vvUB"
      },
      "outputs": [],
      "source": [
        "# 1.5 Audio\n",
        "# Now audio is a representation of what we perceive with our ears\n",
        "# With the right audio capturing device, we can transform the audio\n",
        "# into a digital representation\n",
        "#with wave.open('bark.wav') as f:\n",
        "#  buffer = f.readframes(f.getnframes())\n",
        "#  interleaved = np.frombuffer(buffer, dtype=f'int{f.getsampwidth()*8}')\n",
        "#  my_audio = np.reshape(interleaved, (-1, f.getnchannels()))"
      ]
    },
    {
      "cell_type": "code",
      "execution_count": 13,
      "metadata": {
        "id": "uXl3-jlrxXZD"
      },
      "outputs": [],
      "source": [
        "# Which is also, a matrix\n"
      ]
    },
    {
      "cell_type": "code",
      "execution_count": 14,
      "metadata": {
        "id": "5_TZ-ENJyktC"
      },
      "outputs": [],
      "source": [
        "# Credits\n",
        "# Bark audio: https://mixkit.co/free-sound-effects/\n",
        "# Dog image: https://stackoverflow.com/questions/7941743/saving-gray-images-in-jpeg-using-matlab-imwrite\n",
        "# Audio convertion: https://stackoverflow.com/questions/54174160/how-to-get-numpy-arrays-output-of-wav-file-format#54174291"
      ]
    }
  ],
  "metadata": {
    "colab": {
      "provenance": []
    },
    "kernelspec": {
      "display_name": "Python 3",
      "name": "python3"
    },
    "language_info": {
      "name": "python"
    }
  },
  "nbformat": 4,
  "nbformat_minor": 0
}
